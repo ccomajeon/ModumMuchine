{
 "cells": [
  {
   "cell_type": "code",
   "execution_count": 1,
   "metadata": {},
   "outputs": [
    {
     "name": "stderr",
     "output_type": "stream",
     "text": [
      "C:\\Users\\bit\\anaconda3\\lib\\site-packages\\ipykernel_launcher.py:2: DeprecationWarning: Using or importing the ABCs from 'collections' instead of from 'collections.abc' is deprecated since Python 3.3,and in 3.9 it will stop working\n",
      "  \n"
     ]
    }
   ],
   "source": [
    "#라이브러리 불러오기\n",
    "import pymssql\n",
    "import numpy as np\n",
    "import pandas as pd\n",
    "import seaborn as sns\n",
    "import matplotlib.pyplot as plt\n",
    "%matplotlib inline\n",
    "\n",
    "#경고 메세지 출력 안함\n",
    "import warnings\n",
    "warnings.filterwarnings('ignore')"
   ]
  },
  {
   "cell_type": "code",
   "execution_count": 2,
   "metadata": {},
   "outputs": [],
   "source": [
    "conn = pymssql.connect(server=\"14.32.18.226\", user=\"as\", password=\"1234\", database=\"YL1\")"
   ]
  },
  {
   "cell_type": "code",
   "execution_count": 22,
   "metadata": {},
   "outputs": [],
   "source": [
    "data = pd.read_sql(\"select Date, AgeCode, Spend from UsagePerAge;\", conn)"
   ]
  },
  {
   "cell_type": "code",
   "execution_count": 23,
   "metadata": {},
   "outputs": [
    {
     "data": {
      "text/html": [
       "<div>\n",
       "<style scoped>\n",
       "    .dataframe tbody tr th:only-of-type {\n",
       "        vertical-align: middle;\n",
       "    }\n",
       "\n",
       "    .dataframe tbody tr th {\n",
       "        vertical-align: top;\n",
       "    }\n",
       "\n",
       "    .dataframe thead th {\n",
       "        text-align: right;\n",
       "    }\n",
       "</style>\n",
       "<table border=\"1\" class=\"dataframe\">\n",
       "  <thead>\n",
       "    <tr style=\"text-align: right;\">\n",
       "      <th></th>\n",
       "      <th>Date</th>\n",
       "      <th>AgeCode</th>\n",
       "      <th>Spend</th>\n",
       "    </tr>\n",
       "  </thead>\n",
       "  <tbody>\n",
       "    <tr>\n",
       "      <th>0</th>\n",
       "      <td>2019-04</td>\n",
       "      <td>30002</td>\n",
       "      <td>3</td>\n",
       "    </tr>\n",
       "    <tr>\n",
       "      <th>1</th>\n",
       "      <td>2019-04</td>\n",
       "      <td>30003</td>\n",
       "      <td>37</td>\n",
       "    </tr>\n",
       "    <tr>\n",
       "      <th>2</th>\n",
       "      <td>2019-04</td>\n",
       "      <td>30004</td>\n",
       "      <td>1</td>\n",
       "    </tr>\n",
       "    <tr>\n",
       "      <th>3</th>\n",
       "      <td>2019-04</td>\n",
       "      <td>30004</td>\n",
       "      <td>23</td>\n",
       "    </tr>\n",
       "    <tr>\n",
       "      <th>4</th>\n",
       "      <td>2019-04</td>\n",
       "      <td>30005</td>\n",
       "      <td>85</td>\n",
       "    </tr>\n",
       "    <tr>\n",
       "      <th>...</th>\n",
       "      <td>...</td>\n",
       "      <td>...</td>\n",
       "      <td>...</td>\n",
       "    </tr>\n",
       "    <tr>\n",
       "      <th>2268</th>\n",
       "      <td>2019-09</td>\n",
       "      <td>30005</td>\n",
       "      <td>7051</td>\n",
       "    </tr>\n",
       "    <tr>\n",
       "      <th>2269</th>\n",
       "      <td>2019-09</td>\n",
       "      <td>30006</td>\n",
       "      <td>1323</td>\n",
       "    </tr>\n",
       "    <tr>\n",
       "      <th>2270</th>\n",
       "      <td>2019-09</td>\n",
       "      <td>30006</td>\n",
       "      <td>1</td>\n",
       "    </tr>\n",
       "    <tr>\n",
       "      <th>2271</th>\n",
       "      <td>2019-09</td>\n",
       "      <td>30007</td>\n",
       "      <td>157</td>\n",
       "    </tr>\n",
       "    <tr>\n",
       "      <th>2272</th>\n",
       "      <td>2019-09</td>\n",
       "      <td>30008</td>\n",
       "      <td>38</td>\n",
       "    </tr>\n",
       "  </tbody>\n",
       "</table>\n",
       "<p>2273 rows × 3 columns</p>\n",
       "</div>"
      ],
      "text/plain": [
       "         Date  AgeCode  Spend\n",
       "0     2019-04    30002      3\n",
       "1     2019-04    30003     37\n",
       "2     2019-04    30004      1\n",
       "3     2019-04    30004     23\n",
       "4     2019-04    30005     85\n",
       "...       ...      ...    ...\n",
       "2268  2019-09    30005   7051\n",
       "2269  2019-09    30006   1323\n",
       "2270  2019-09    30006      1\n",
       "2271  2019-09    30007    157\n",
       "2272  2019-09    30008     38\n",
       "\n",
       "[2273 rows x 3 columns]"
      ]
     },
     "execution_count": 23,
     "metadata": {},
     "output_type": "execute_result"
    }
   ],
   "source": [
    "data"
   ]
  },
  {
   "cell_type": "code",
   "execution_count": 5,
   "metadata": {},
   "outputs": [
    {
     "name": "stdout",
     "output_type": "stream",
     "text": [
      "\n",
      " ### 훈련 데이터셋 정보 ### \n",
      "\n",
      "<class 'pandas.core.frame.DataFrame'>\n",
      "RangeIndex: 53 entries, 0 to 52\n",
      "Data columns (total 3 columns):\n",
      " #   Column   Non-Null Count  Dtype \n",
      "---  ------   --------------  ----- \n",
      " 0   Date     53 non-null     object\n",
      " 1   AgeCode  53 non-null     int64 \n",
      " 2   Spend    53 non-null     int64 \n",
      "dtypes: int64(2), object(1)\n",
      "memory usage: 1.4+ KB\n",
      "None\n"
     ]
    }
   ],
   "source": [
    "print('\\n ### 훈련 데이터셋 정보 ### \\n')\n",
    "print(data.info())"
   ]
  },
  {
   "cell_type": "code",
   "execution_count": 5,
   "metadata": {},
   "outputs": [
    {
     "name": "stdout",
     "output_type": "stream",
     "text": [
      "데이터 Null 값 개수: \n",
      " Date       0\n",
      "AgeCode    0\n",
      "Spend      0\n",
      "dtype: int64\n"
     ]
    }
   ],
   "source": [
    "print('데이터 Null 값 개수: \\n', data.isnull().sum())"
   ]
  },
  {
   "cell_type": "code",
   "execution_count": 6,
   "metadata": {},
   "outputs": [
    {
     "name": "stdout",
     "output_type": "stream",
     "text": [
      "년월 값의 분포: \n",
      " 2019-09    9\n",
      "2019-08    9\n",
      "2019-07    9\n",
      "2019-06    9\n",
      "2019-05    9\n",
      "2019-04    8\n",
      "Name: Date, dtype: int64\n",
      "\n",
      "연령대코드 값의 분포: \n",
      " 30008    6\n",
      "30007    6\n",
      "30006    6\n",
      "30005    6\n",
      "30004    6\n",
      "30003    6\n",
      "30002    6\n",
      "30001    6\n",
      "30009    5\n",
      "Name: AgeCode, dtype: int64\n",
      "\n",
      "사용빈도 값의 분포: \n",
      " 18044     1\n",
      "4791      1\n",
      "5173      1\n",
      "4660      1\n",
      "3245      1\n",
      "32        1\n",
      "118164    1\n",
      "38        1\n",
      "75685     1\n",
      "1575      1\n",
      "4770      1\n",
      "39968     1\n",
      "46495     1\n",
      "8346      1\n",
      "99993     1\n",
      "22        1\n",
      "8085      1\n",
      "409       1\n",
      "79633     1\n",
      "141       1\n",
      "49036     1\n",
      "11        1\n",
      "217098    1\n",
      "16776     1\n",
      "50948     1\n",
      "3126      1\n",
      "28217     1\n",
      "230523    1\n",
      "146740    1\n",
      "47738     1\n",
      "375       1\n",
      "1526      1\n",
      "29684     1\n",
      "356970    1\n",
      "1001      1\n",
      "616       1\n",
      "615       1\n",
      "4305      1\n",
      "151264    1\n",
      "32863     1\n",
      "152283    1\n",
      "11226     1\n",
      "108502    1\n",
      "37        1\n",
      "8401      1\n",
      "12368     1\n",
      "233833    1\n",
      "174540    1\n",
      "19531     1\n",
      "2208      1\n",
      "77032     1\n",
      "421       1\n",
      "1         1\n",
      "Name: Spend, dtype: int64\n"
     ]
    }
   ],
   "source": [
    "print('년월 값의 분포: \\n', data['Date'].value_counts())\n",
    "print('\\n연령대코드 값의 분포: \\n', data['AgeCode'].value_counts())\n",
    "print('\\n사용빈도 값의 분포: \\n', data['Spend'].value_counts())"
   ]
  },
  {
   "cell_type": "code",
   "execution_count": 7,
   "metadata": {},
   "outputs": [
    {
     "data": {
      "text/html": [
       "<div>\n",
       "<style scoped>\n",
       "    .dataframe tbody tr th:only-of-type {\n",
       "        vertical-align: middle;\n",
       "    }\n",
       "\n",
       "    .dataframe tbody tr th {\n",
       "        vertical-align: top;\n",
       "    }\n",
       "\n",
       "    .dataframe thead th {\n",
       "        text-align: right;\n",
       "    }\n",
       "</style>\n",
       "<table border=\"1\" class=\"dataframe\">\n",
       "  <thead>\n",
       "    <tr style=\"text-align: right;\">\n",
       "      <th></th>\n",
       "      <th>Spend</th>\n",
       "    </tr>\n",
       "    <tr>\n",
       "      <th>AgeCode</th>\n",
       "      <th></th>\n",
       "    </tr>\n",
       "  </thead>\n",
       "  <tbody>\n",
       "    <tr>\n",
       "      <th>30001</th>\n",
       "      <td>23005</td>\n",
       "    </tr>\n",
       "    <tr>\n",
       "      <th>30002</th>\n",
       "      <td>230351</td>\n",
       "    </tr>\n",
       "    <tr>\n",
       "      <th>30003</th>\n",
       "      <td>696165</td>\n",
       "    </tr>\n",
       "    <tr>\n",
       "      <th>30004</th>\n",
       "      <td>1052418</td>\n",
       "    </tr>\n",
       "    <tr>\n",
       "      <th>30005</th>\n",
       "      <td>528085</td>\n",
       "    </tr>\n",
       "    <tr>\n",
       "      <th>30006</th>\n",
       "      <td>133049</td>\n",
       "    </tr>\n",
       "    <tr>\n",
       "      <th>30007</th>\n",
       "      <td>23122</td>\n",
       "    </tr>\n",
       "    <tr>\n",
       "      <th>30008</th>\n",
       "      <td>2770</td>\n",
       "    </tr>\n",
       "    <tr>\n",
       "      <th>30009</th>\n",
       "      <td>119</td>\n",
       "    </tr>\n",
       "  </tbody>\n",
       "</table>\n",
       "</div>"
      ],
      "text/plain": [
       "           Spend\n",
       "AgeCode         \n",
       "30001      23005\n",
       "30002     230351\n",
       "30003     696165\n",
       "30004    1052418\n",
       "30005     528085\n",
       "30006     133049\n",
       "30007      23122\n",
       "30008       2770\n",
       "30009        119"
      ]
     },
     "execution_count": 7,
     "metadata": {},
     "output_type": "execute_result"
    }
   ],
   "source": [
    "#연령대에 따른 사용빈도 비교\n",
    "data.groupby(['AgeCode'])['Spend'].sum().to_frame()"
   ]
  },
  {
   "cell_type": "code",
   "execution_count": 50,
   "metadata": {},
   "outputs": [
    {
     "data": {
      "text/plain": [
       "<matplotlib.axes._subplots.AxesSubplot at 0x2657c043e08>"
      ]
     },
     "execution_count": 50,
     "metadata": {},
     "output_type": "execute_result"
    },
    {
     "data": {
      "image/png": "[encoded data removed]",
      "text/plain": [
       "<Figure size 432x288 with 1 Axes>"
      ]
     },
     "metadata": {
      "needs_background": "light"
     },
     "output_type": "display_data"
    }
   ],
   "source": [
    "sns.barplot(x=\"AgeCode\", y=\"Spend\", data=data)"
   ]
  },
  {
   "cell_type": "code",
   "execution_count": 51,
   "metadata": {},
   "outputs": [
    {
     "data": {
      "text/html": [
       "<div>\n",
       "<style scoped>\n",
       "    .dataframe tbody tr th:only-of-type {\n",
       "        vertical-align: middle;\n",
       "    }\n",
       "\n",
       "    .dataframe tbody tr th {\n",
       "        vertical-align: top;\n",
       "    }\n",
       "\n",
       "    .dataframe thead th {\n",
       "        text-align: right;\n",
       "    }\n",
       "</style>\n",
       "<table border=\"1\" class=\"dataframe\">\n",
       "  <thead>\n",
       "    <tr style=\"text-align: right;\">\n",
       "      <th></th>\n",
       "      <th>Spend</th>\n",
       "    </tr>\n",
       "    <tr>\n",
       "      <th>Date</th>\n",
       "      <th></th>\n",
       "    </tr>\n",
       "  </thead>\n",
       "  <tbody>\n",
       "    <tr>\n",
       "      <th>2019-04</th>\n",
       "      <td>50490</td>\n",
       "    </tr>\n",
       "    <tr>\n",
       "      <th>2019-05</th>\n",
       "      <td>196368</td>\n",
       "    </tr>\n",
       "    <tr>\n",
       "      <th>2019-06</th>\n",
       "      <td>384606</td>\n",
       "    </tr>\n",
       "    <tr>\n",
       "      <th>2019-07</th>\n",
       "      <td>590286</td>\n",
       "    </tr>\n",
       "    <tr>\n",
       "      <th>2019-08</th>\n",
       "      <td>558393</td>\n",
       "    </tr>\n",
       "    <tr>\n",
       "      <th>2019-09</th>\n",
       "      <td>908941</td>\n",
       "    </tr>\n",
       "  </tbody>\n",
       "</table>\n",
       "</div>"
      ],
      "text/plain": [
       "          Spend\n",
       "Date           \n",
       "2019-04   50490\n",
       "2019-05  196368\n",
       "2019-06  384606\n",
       "2019-07  590286\n",
       "2019-08  558393\n",
       "2019-09  908941"
      ]
     },
     "execution_count": 51,
     "metadata": {},
     "output_type": "execute_result"
    }
   ],
   "source": [
    "#연도에 따른 사용빈도 비교\n",
    "data.groupby(['Date'])['Spend'].sum().to_frame()"
   ]
  },
  {
   "cell_type": "code",
   "execution_count": 52,
   "metadata": {},
   "outputs": [
    {
     "data": {
      "text/plain": [
       "<matplotlib.axes._subplots.AxesSubplot at 0x2657c0db288>"
      ]
     },
     "execution_count": 52,
     "metadata": {},
     "output_type": "execute_result"
    },
    {
     "data": {
      "image/png": "[encoded data removed]",
      "text/plain": [
       "<Figure size 432x288 with 1 Axes>"
      ]
     },
     "metadata": {
      "needs_background": "light"
     },
     "output_type": "display_data"
    }
   ],
   "source": [
    "sns.barplot(x='Date', y='Spend', data=data)"
   ]
  },
  {
   "cell_type": "markdown",
   "metadata": {},
   "source": [
    "**<h4>데이터 표준편차 삭제</h4>**"
   ]
  },
  {
   "cell_type": "code",
   "execution_count": 8,
   "metadata": {},
   "outputs": [],
   "source": [
    "from scipy import stats\n",
    "data['z_spend'] = stats.zscore(data['Spend'])"
   ]
  },
  {
   "cell_type": "code",
   "execution_count": 9,
   "metadata": {},
   "outputs": [
    {
     "data": {
      "text/html": [
       "<div>\n",
       "<style scoped>\n",
       "    .dataframe tbody tr th:only-of-type {\n",
       "        vertical-align: middle;\n",
       "    }\n",
       "\n",
       "    .dataframe tbody tr th {\n",
       "        vertical-align: top;\n",
       "    }\n",
       "\n",
       "    .dataframe thead th {\n",
       "        text-align: right;\n",
       "    }\n",
       "</style>\n",
       "<table border=\"1\" class=\"dataframe\">\n",
       "  <thead>\n",
       "    <tr style=\"text-align: right;\">\n",
       "      <th></th>\n",
       "      <th>Date</th>\n",
       "      <th>AgeCode</th>\n",
       "      <th>Spend</th>\n",
       "      <th>z_spend</th>\n",
       "    </tr>\n",
       "  </thead>\n",
       "  <tbody>\n",
       "    <tr>\n",
       "      <th>0</th>\n",
       "      <td>2019-04</td>\n",
       "      <td>30001</td>\n",
       "      <td>409</td>\n",
       "      <td>-0.654739</td>\n",
       "    </tr>\n",
       "    <tr>\n",
       "      <th>1</th>\n",
       "      <td>2019-05</td>\n",
       "      <td>30001</td>\n",
       "      <td>1575</td>\n",
       "      <td>-0.639570</td>\n",
       "    </tr>\n",
       "    <tr>\n",
       "      <th>2</th>\n",
       "      <td>2019-06</td>\n",
       "      <td>30001</td>\n",
       "      <td>3245</td>\n",
       "      <td>-0.617845</td>\n",
       "    </tr>\n",
       "    <tr>\n",
       "      <th>3</th>\n",
       "      <td>2019-07</td>\n",
       "      <td>30001</td>\n",
       "      <td>4770</td>\n",
       "      <td>-0.598006</td>\n",
       "    </tr>\n",
       "    <tr>\n",
       "      <th>4</th>\n",
       "      <td>2019-08</td>\n",
       "      <td>30001</td>\n",
       "      <td>4660</td>\n",
       "      <td>-0.599437</td>\n",
       "    </tr>\n",
       "    <tr>\n",
       "      <th>5</th>\n",
       "      <td>2019-09</td>\n",
       "      <td>30001</td>\n",
       "      <td>8346</td>\n",
       "      <td>-0.551484</td>\n",
       "    </tr>\n",
       "    <tr>\n",
       "      <th>6</th>\n",
       "      <td>2019-04</td>\n",
       "      <td>30002</td>\n",
       "      <td>4305</td>\n",
       "      <td>-0.604055</td>\n",
       "    </tr>\n",
       "    <tr>\n",
       "      <th>7</th>\n",
       "      <td>2019-05</td>\n",
       "      <td>30002</td>\n",
       "      <td>16776</td>\n",
       "      <td>-0.441816</td>\n",
       "    </tr>\n",
       "    <tr>\n",
       "      <th>8</th>\n",
       "      <td>2019-06</td>\n",
       "      <td>30002</td>\n",
       "      <td>32863</td>\n",
       "      <td>-0.232534</td>\n",
       "    </tr>\n",
       "    <tr>\n",
       "      <th>9</th>\n",
       "      <td>2019-07</td>\n",
       "      <td>30002</td>\n",
       "      <td>49036</td>\n",
       "      <td>-0.022135</td>\n",
       "    </tr>\n",
       "    <tr>\n",
       "      <th>10</th>\n",
       "      <td>2019-08</td>\n",
       "      <td>30002</td>\n",
       "      <td>47738</td>\n",
       "      <td>-0.039021</td>\n",
       "    </tr>\n",
       "    <tr>\n",
       "      <th>11</th>\n",
       "      <td>2019-09</td>\n",
       "      <td>30002</td>\n",
       "      <td>79633</td>\n",
       "      <td>0.375912</td>\n",
       "    </tr>\n",
       "    <tr>\n",
       "      <th>12</th>\n",
       "      <td>2019-04</td>\n",
       "      <td>30003</td>\n",
       "      <td>12368</td>\n",
       "      <td>-0.499161</td>\n",
       "    </tr>\n",
       "    <tr>\n",
       "      <th>13</th>\n",
       "      <td>2019-05</td>\n",
       "      <td>30003</td>\n",
       "      <td>50948</td>\n",
       "      <td>0.002739</td>\n",
       "    </tr>\n",
       "    <tr>\n",
       "      <th>14</th>\n",
       "      <td>2019-06</td>\n",
       "      <td>30003</td>\n",
       "      <td>99993</td>\n",
       "      <td>0.640782</td>\n",
       "    </tr>\n",
       "    <tr>\n",
       "      <th>15</th>\n",
       "      <td>2019-07</td>\n",
       "      <td>30003</td>\n",
       "      <td>152283</td>\n",
       "      <td>1.321040</td>\n",
       "    </tr>\n",
       "    <tr>\n",
       "      <th>16</th>\n",
       "      <td>2019-08</td>\n",
       "      <td>30003</td>\n",
       "      <td>146740</td>\n",
       "      <td>1.248929</td>\n",
       "    </tr>\n",
       "    <tr>\n",
       "      <th>18</th>\n",
       "      <td>2019-04</td>\n",
       "      <td>30004</td>\n",
       "      <td>19531</td>\n",
       "      <td>-0.405975</td>\n",
       "    </tr>\n",
       "    <tr>\n",
       "      <th>19</th>\n",
       "      <td>2019-05</td>\n",
       "      <td>30004</td>\n",
       "      <td>77032</td>\n",
       "      <td>0.342075</td>\n",
       "    </tr>\n",
       "    <tr>\n",
       "      <th>20</th>\n",
       "      <td>2019-06</td>\n",
       "      <td>30004</td>\n",
       "      <td>151264</td>\n",
       "      <td>1.307784</td>\n",
       "    </tr>\n",
       "    <tr>\n",
       "      <th>24</th>\n",
       "      <td>2019-04</td>\n",
       "      <td>30005</td>\n",
       "      <td>11226</td>\n",
       "      <td>-0.514017</td>\n",
       "    </tr>\n",
       "    <tr>\n",
       "      <th>25</th>\n",
       "      <td>2019-05</td>\n",
       "      <td>30005</td>\n",
       "      <td>39968</td>\n",
       "      <td>-0.140103</td>\n",
       "    </tr>\n",
       "    <tr>\n",
       "      <th>26</th>\n",
       "      <td>2019-06</td>\n",
       "      <td>30005</td>\n",
       "      <td>75685</td>\n",
       "      <td>0.324551</td>\n",
       "    </tr>\n",
       "    <tr>\n",
       "      <th>27</th>\n",
       "      <td>2019-07</td>\n",
       "      <td>30005</td>\n",
       "      <td>118164</td>\n",
       "      <td>0.877175</td>\n",
       "    </tr>\n",
       "    <tr>\n",
       "      <th>28</th>\n",
       "      <td>2019-08</td>\n",
       "      <td>30005</td>\n",
       "      <td>108502</td>\n",
       "      <td>0.751478</td>\n",
       "    </tr>\n",
       "    <tr>\n",
       "      <th>29</th>\n",
       "      <td>2019-09</td>\n",
       "      <td>30005</td>\n",
       "      <td>174540</td>\n",
       "      <td>1.610589</td>\n",
       "    </tr>\n",
       "    <tr>\n",
       "      <th>30</th>\n",
       "      <td>2019-04</td>\n",
       "      <td>30006</td>\n",
       "      <td>2208</td>\n",
       "      <td>-0.631336</td>\n",
       "    </tr>\n",
       "    <tr>\n",
       "      <th>31</th>\n",
       "      <td>2019-05</td>\n",
       "      <td>30006</td>\n",
       "      <td>8401</td>\n",
       "      <td>-0.550769</td>\n",
       "    </tr>\n",
       "    <tr>\n",
       "      <th>32</th>\n",
       "      <td>2019-06</td>\n",
       "      <td>30006</td>\n",
       "      <td>18044</td>\n",
       "      <td>-0.425320</td>\n",
       "    </tr>\n",
       "    <tr>\n",
       "      <th>33</th>\n",
       "      <td>2019-07</td>\n",
       "      <td>30006</td>\n",
       "      <td>29684</td>\n",
       "      <td>-0.273891</td>\n",
       "    </tr>\n",
       "    <tr>\n",
       "      <th>34</th>\n",
       "      <td>2019-08</td>\n",
       "      <td>30006</td>\n",
       "      <td>28217</td>\n",
       "      <td>-0.292976</td>\n",
       "    </tr>\n",
       "    <tr>\n",
       "      <th>35</th>\n",
       "      <td>2019-09</td>\n",
       "      <td>30006</td>\n",
       "      <td>46495</td>\n",
       "      <td>-0.055191</td>\n",
       "    </tr>\n",
       "    <tr>\n",
       "      <th>36</th>\n",
       "      <td>2019-04</td>\n",
       "      <td>30007</td>\n",
       "      <td>421</td>\n",
       "      <td>-0.654583</td>\n",
       "    </tr>\n",
       "    <tr>\n",
       "      <th>37</th>\n",
       "      <td>2019-05</td>\n",
       "      <td>30007</td>\n",
       "      <td>1526</td>\n",
       "      <td>-0.640208</td>\n",
       "    </tr>\n",
       "    <tr>\n",
       "      <th>38</th>\n",
       "      <td>2019-06</td>\n",
       "      <td>30007</td>\n",
       "      <td>3126</td>\n",
       "      <td>-0.619393</td>\n",
       "    </tr>\n",
       "    <tr>\n",
       "      <th>39</th>\n",
       "      <td>2019-07</td>\n",
       "      <td>30007</td>\n",
       "      <td>5173</td>\n",
       "      <td>-0.592763</td>\n",
       "    </tr>\n",
       "    <tr>\n",
       "      <th>40</th>\n",
       "      <td>2019-08</td>\n",
       "      <td>30007</td>\n",
       "      <td>4791</td>\n",
       "      <td>-0.597732</td>\n",
       "    </tr>\n",
       "    <tr>\n",
       "      <th>41</th>\n",
       "      <td>2019-09</td>\n",
       "      <td>30007</td>\n",
       "      <td>8085</td>\n",
       "      <td>-0.554880</td>\n",
       "    </tr>\n",
       "    <tr>\n",
       "      <th>42</th>\n",
       "      <td>2019-04</td>\n",
       "      <td>30008</td>\n",
       "      <td>22</td>\n",
       "      <td>-0.659774</td>\n",
       "    </tr>\n",
       "    <tr>\n",
       "      <th>43</th>\n",
       "      <td>2019-05</td>\n",
       "      <td>30008</td>\n",
       "      <td>141</td>\n",
       "      <td>-0.658226</td>\n",
       "    </tr>\n",
       "    <tr>\n",
       "      <th>44</th>\n",
       "      <td>2019-06</td>\n",
       "      <td>30008</td>\n",
       "      <td>375</td>\n",
       "      <td>-0.655182</td>\n",
       "    </tr>\n",
       "    <tr>\n",
       "      <th>45</th>\n",
       "      <td>2019-07</td>\n",
       "      <td>30008</td>\n",
       "      <td>616</td>\n",
       "      <td>-0.652046</td>\n",
       "    </tr>\n",
       "    <tr>\n",
       "      <th>46</th>\n",
       "      <td>2019-08</td>\n",
       "      <td>30008</td>\n",
       "      <td>615</td>\n",
       "      <td>-0.652059</td>\n",
       "    </tr>\n",
       "    <tr>\n",
       "      <th>47</th>\n",
       "      <td>2019-09</td>\n",
       "      <td>30008</td>\n",
       "      <td>1001</td>\n",
       "      <td>-0.647038</td>\n",
       "    </tr>\n",
       "    <tr>\n",
       "      <th>48</th>\n",
       "      <td>2019-05</td>\n",
       "      <td>30009</td>\n",
       "      <td>1</td>\n",
       "      <td>-0.660047</td>\n",
       "    </tr>\n",
       "    <tr>\n",
       "      <th>49</th>\n",
       "      <td>2019-06</td>\n",
       "      <td>30009</td>\n",
       "      <td>11</td>\n",
       "      <td>-0.659917</td>\n",
       "    </tr>\n",
       "    <tr>\n",
       "      <th>50</th>\n",
       "      <td>2019-07</td>\n",
       "      <td>30009</td>\n",
       "      <td>37</td>\n",
       "      <td>-0.659579</td>\n",
       "    </tr>\n",
       "    <tr>\n",
       "      <th>51</th>\n",
       "      <td>2019-08</td>\n",
       "      <td>30009</td>\n",
       "      <td>32</td>\n",
       "      <td>-0.659644</td>\n",
       "    </tr>\n",
       "    <tr>\n",
       "      <th>52</th>\n",
       "      <td>2019-09</td>\n",
       "      <td>30009</td>\n",
       "      <td>38</td>\n",
       "      <td>-0.659566</td>\n",
       "    </tr>\n",
       "  </tbody>\n",
       "</table>\n",
       "</div>"
      ],
      "text/plain": [
       "       Date  AgeCode   Spend   z_spend\n",
       "0   2019-04    30001     409 -0.654739\n",
       "1   2019-05    30001    1575 -0.639570\n",
       "2   2019-06    30001    3245 -0.617845\n",
       "3   2019-07    30001    4770 -0.598006\n",
       "4   2019-08    30001    4660 -0.599437\n",
       "5   2019-09    30001    8346 -0.551484\n",
       "6   2019-04    30002    4305 -0.604055\n",
       "7   2019-05    30002   16776 -0.441816\n",
       "8   2019-06    30002   32863 -0.232534\n",
       "9   2019-07    30002   49036 -0.022135\n",
       "10  2019-08    30002   47738 -0.039021\n",
       "11  2019-09    30002   79633  0.375912\n",
       "12  2019-04    30003   12368 -0.499161\n",
       "13  2019-05    30003   50948  0.002739\n",
       "14  2019-06    30003   99993  0.640782\n",
       "15  2019-07    30003  152283  1.321040\n",
       "16  2019-08    30003  146740  1.248929\n",
       "18  2019-04    30004   19531 -0.405975\n",
       "19  2019-05    30004   77032  0.342075\n",
       "20  2019-06    30004  151264  1.307784\n",
       "24  2019-04    30005   11226 -0.514017\n",
       "25  2019-05    30005   39968 -0.140103\n",
       "26  2019-06    30005   75685  0.324551\n",
       "27  2019-07    30005  118164  0.877175\n",
       "28  2019-08    30005  108502  0.751478\n",
       "29  2019-09    30005  174540  1.610589\n",
       "30  2019-04    30006    2208 -0.631336\n",
       "31  2019-05    30006    8401 -0.550769\n",
       "32  2019-06    30006   18044 -0.425320\n",
       "33  2019-07    30006   29684 -0.273891\n",
       "34  2019-08    30006   28217 -0.292976\n",
       "35  2019-09    30006   46495 -0.055191\n",
       "36  2019-04    30007     421 -0.654583\n",
       "37  2019-05    30007    1526 -0.640208\n",
       "38  2019-06    30007    3126 -0.619393\n",
       "39  2019-07    30007    5173 -0.592763\n",
       "40  2019-08    30007    4791 -0.597732\n",
       "41  2019-09    30007    8085 -0.554880\n",
       "42  2019-04    30008      22 -0.659774\n",
       "43  2019-05    30008     141 -0.658226\n",
       "44  2019-06    30008     375 -0.655182\n",
       "45  2019-07    30008     616 -0.652046\n",
       "46  2019-08    30008     615 -0.652059\n",
       "47  2019-09    30008    1001 -0.647038\n",
       "48  2019-05    30009       1 -0.660047\n",
       "49  2019-06    30009      11 -0.659917\n",
       "50  2019-07    30009      37 -0.659579\n",
       "51  2019-08    30009      32 -0.659644\n",
       "52  2019-09    30009      38 -0.659566"
      ]
     },
     "execution_count": 9,
     "metadata": {},
     "output_type": "execute_result"
    }
   ],
   "source": [
    "data = data[data['z_spend'].between(-2,2)]\n",
    "data"
   ]
  },
  {
   "cell_type": "code",
   "execution_count": 10,
   "metadata": {},
   "outputs": [],
   "source": [
    "def drop_features(dataDF):\n",
    "    dataDF.drop(['z_spend'], axis=1, inplace=True)\n",
    "    return dataDF\n",
    "\n",
    "data = drop_features(data)"
   ]
  },
  {
   "cell_type": "markdown",
   "metadata": {},
   "source": [
    "**<h4>문자열 카테고리의 feature를 숫자형으로 변환</h4>**"
   ]
  },
  {
   "cell_type": "code",
   "execution_count": 24,
   "metadata": {},
   "outputs": [],
   "source": [
    "from sklearn.preprocessing import LabelEncoder"
   ]
  },
  {
   "cell_type": "code",
   "execution_count": 25,
   "metadata": {},
   "outputs": [],
   "source": [
    "def encode_features(dataDF) :\n",
    "    features = ['Date', 'AgeCode']\n",
    "    for feature in features:\n",
    "        le = LabelEncoder()\n",
    "        le = le.fit(dataDF[feature])\n",
    "        dataDF[feature] = le.transform(dataDF[feature])\n",
    "    return dataDF\n",
    "\n",
    "data = encode_features(data)"
   ]
  },
  {
   "cell_type": "code",
   "execution_count": 26,
   "metadata": {},
   "outputs": [
    {
     "data": {
      "text/html": [
       "<div>\n",
       "<style scoped>\n",
       "    .dataframe tbody tr th:only-of-type {\n",
       "        vertical-align: middle;\n",
       "    }\n",
       "\n",
       "    .dataframe tbody tr th {\n",
       "        vertical-align: top;\n",
       "    }\n",
       "\n",
       "    .dataframe thead th {\n",
       "        text-align: right;\n",
       "    }\n",
       "</style>\n",
       "<table border=\"1\" class=\"dataframe\">\n",
       "  <thead>\n",
       "    <tr style=\"text-align: right;\">\n",
       "      <th></th>\n",
       "      <th>Date</th>\n",
       "      <th>AgeCode</th>\n",
       "      <th>Spend</th>\n",
       "    </tr>\n",
       "  </thead>\n",
       "  <tbody>\n",
       "    <tr>\n",
       "      <th>0</th>\n",
       "      <td>0</td>\n",
       "      <td>1</td>\n",
       "      <td>3</td>\n",
       "    </tr>\n",
       "    <tr>\n",
       "      <th>1</th>\n",
       "      <td>0</td>\n",
       "      <td>2</td>\n",
       "      <td>37</td>\n",
       "    </tr>\n",
       "    <tr>\n",
       "      <th>2</th>\n",
       "      <td>0</td>\n",
       "      <td>3</td>\n",
       "      <td>1</td>\n",
       "    </tr>\n",
       "    <tr>\n",
       "      <th>3</th>\n",
       "      <td>0</td>\n",
       "      <td>3</td>\n",
       "      <td>23</td>\n",
       "    </tr>\n",
       "    <tr>\n",
       "      <th>4</th>\n",
       "      <td>0</td>\n",
       "      <td>4</td>\n",
       "      <td>85</td>\n",
       "    </tr>\n",
       "    <tr>\n",
       "      <th>...</th>\n",
       "      <td>...</td>\n",
       "      <td>...</td>\n",
       "      <td>...</td>\n",
       "    </tr>\n",
       "    <tr>\n",
       "      <th>2268</th>\n",
       "      <td>5</td>\n",
       "      <td>4</td>\n",
       "      <td>7051</td>\n",
       "    </tr>\n",
       "    <tr>\n",
       "      <th>2269</th>\n",
       "      <td>5</td>\n",
       "      <td>5</td>\n",
       "      <td>1323</td>\n",
       "    </tr>\n",
       "    <tr>\n",
       "      <th>2270</th>\n",
       "      <td>5</td>\n",
       "      <td>5</td>\n",
       "      <td>1</td>\n",
       "    </tr>\n",
       "    <tr>\n",
       "      <th>2271</th>\n",
       "      <td>5</td>\n",
       "      <td>6</td>\n",
       "      <td>157</td>\n",
       "    </tr>\n",
       "    <tr>\n",
       "      <th>2272</th>\n",
       "      <td>5</td>\n",
       "      <td>7</td>\n",
       "      <td>38</td>\n",
       "    </tr>\n",
       "  </tbody>\n",
       "</table>\n",
       "<p>2273 rows × 3 columns</p>\n",
       "</div>"
      ],
      "text/plain": [
       "      Date  AgeCode  Spend\n",
       "0        0        1      3\n",
       "1        0        2     37\n",
       "2        0        3      1\n",
       "3        0        3     23\n",
       "4        0        4     85\n",
       "...    ...      ...    ...\n",
       "2268     5        4   7051\n",
       "2269     5        5   1323\n",
       "2270     5        5      1\n",
       "2271     5        6    157\n",
       "2272     5        7     38\n",
       "\n",
       "[2273 rows x 3 columns]"
      ]
     },
     "execution_count": 26,
     "metadata": {},
     "output_type": "execute_result"
    }
   ],
   "source": [
    "data"
   ]
  },
  {
   "cell_type": "markdown",
   "metadata": {},
   "source": [
    "학습 세트를 기반으로 train_test_split()을 이용하여 별도의 테스트 데이터 세트를 추출"
   ]
  },
  {
   "cell_type": "code",
   "execution_count": 30,
   "metadata": {},
   "outputs": [],
   "source": [
    "from sklearn.model_selection import train_test_split\n",
    "X_train, X_test, y_train, y_test = train_test_split(x_data, y_data,\n",
    "                                                    test_size = 0.2,\n",
    "                                                   random_state = 10000000)"
   ]
  },
  {
   "cell_type": "markdown",
   "metadata": {},
   "source": [
    "ML 알고리즘인 Logistic, DecisionTree, RandomForest를 이용하여 사용빈도 예측\n",
    "<ul>\n",
    "    <li>train_test_split()으로 분리한 학습 데이터와 테스트 데이터를 기반으로\n",
    "    머신러닝 모델을 학습하고 예측</li>\n",
    "    <li>성능평가는 정확도로 평가: accuravy_score()사용</li>\n",
    "</ul>"
   ]
  },
  {
   "cell_type": "code",
   "execution_count": 31,
   "metadata": {},
   "outputs": [],
   "source": [
    "from sklearn.tree import DecisionTreeClassifier\n",
    "from sklearn.ensemble import RandomForestClassifier\n",
    "from sklearn.linear_model import LogisticRegression\n",
    "from sklearn.metrics import accuracy_score\n",
    "from sklearn.linear_model import LinearRegression"
   ]
  },
  {
   "cell_type": "markdown",
   "metadata": {},
   "source": [
    "<h5>DecisionTree</h5>의사결정트리로 스무고개하듯 알고리즘을 돌린다.\n",
    "<h5>RandomForest</h5>의사결정트리는 많은 요소를 기반으로 오버피팅이 일어날 수\n",
    "있으므로 다수결의 원칙을 이용하여 결과를 예측한다."
   ]
  },
  {
   "cell_type": "code",
   "execution_count": 32,
   "metadata": {},
   "outputs": [
    {
     "name": "stdout",
     "output_type": "stream",
     "text": [
      "DecisionTreeClassifier 정확도 : 22.86%\n",
      "RandomForestClassifier 정확도 : 22.86%\n",
      "LogisticRegressionClassifier 정확도 : 22.86%\n",
      "LinearRegressionClassifier 정확도 : 22.86%\n"
     ]
    }
   ],
   "source": [
    "# 알고리즘을 위한 사이킷런 Classifier 클래스 생성\n",
    "dt_clf = DecisionTreeClassifier()\n",
    "rf_clf = RandomForestClassifier()\n",
    "lr_clf = LogisticRegression()\n",
    "ln_clf = LinearRegression()\n",
    "\n",
    "# DecisionTreeClassifier 학습, 예측, 평가\n",
    "dt_clf.fit(X_train, y_train)\n",
    "dt_pred = dt_clf.predict(X_test)\n",
    "print('DecisionTreeClassifier 정확도 : {0:.2f}%'.format(accuracy_score(y_test, dt_pred)*100))\n",
    "\n",
    "# RandomForestClassifier 학습, 예측, 평가\n",
    "rf_clf.fit(X_train, y_train)\n",
    "rf_pred = rf_clf.predict(X_test)\n",
    "print('RandomForestClassifier 정확도 : {0:.2f}%'.format(accuracy_score(y_test, dt_pred)*100))\n",
    "\n",
    "# LogisticRegression 학습, 예측, 평가\n",
    "lr_clf.fit(X_train, y_train)\n",
    "lr_pred = lr_clf.predict(X_test)\n",
    "print('LogisticRegressionClassifier 정확도 : {0:.2f}%'.format(accuracy_score(y_test, dt_pred)*100))\n",
    "\n",
    "# LinearRegression 학습, 예측, 평가\n",
    "ln_clf.fit(X_train, y_train)\n",
    "ln_pred = ln_clf.predict(X_test)\n",
    "print('LinearRegressionClassifier 정확도 : {0:.2f}%'.format(accuracy_score(y_test, dt_pred)*100))"
   ]
  },
  {
   "cell_type": "code",
   "execution_count": 27,
   "metadata": {},
   "outputs": [],
   "source": [
    "xy = np.array(data, dtype=np.int32)\n",
    "x_data = xy[:,0:-1]\n",
    "y_data = xy[:,[-1]]"
   ]
  },
  {
   "cell_type": "code",
   "execution_count": 28,
   "metadata": {},
   "outputs": [
    {
     "data": {
      "text/plain": [
       "array([[0, 1],\n",
       "       [0, 2],\n",
       "       [0, 3],\n",
       "       ...,\n",
       "       [5, 5],\n",
       "       [5, 6],\n",
       "       [5, 7]])"
      ]
     },
     "execution_count": 28,
     "metadata": {},
     "output_type": "execute_result"
    }
   ],
   "source": [
    "x_data"
   ]
  },
  {
   "cell_type": "code",
   "execution_count": 29,
   "metadata": {},
   "outputs": [
    {
     "data": {
      "text/plain": [
       "array([[  3],\n",
       "       [ 37],\n",
       "       [  1],\n",
       "       ...,\n",
       "       [  1],\n",
       "       [157],\n",
       "       [ 38]])"
      ]
     },
     "execution_count": 29,
     "metadata": {},
     "output_type": "execute_result"
    }
   ],
   "source": [
    "y_data"
   ]
  },
  {
   "cell_type": "code",
   "execution_count": 61,
   "metadata": {},
   "outputs": [],
   "source": [
    "lr = RandomForestClassifier()"
   ]
  },
  {
   "cell_type": "code",
   "execution_count": 62,
   "metadata": {},
   "outputs": [
    {
     "data": {
      "text/plain": [
       "RandomForestClassifier()"
      ]
     },
     "execution_count": 62,
     "metadata": {},
     "output_type": "execute_result"
    }
   ],
   "source": [
    "lr.fit(x_data, y_data)"
   ]
  },
  {
   "cell_type": "code",
   "execution_count": 63,
   "metadata": {},
   "outputs": [],
   "source": [
    "lr_pred = lr.predict(x_data)"
   ]
  },
  {
   "cell_type": "code",
   "execution_count": 64,
   "metadata": {},
   "outputs": [
    {
     "name": "stdout",
     "output_type": "stream",
     "text": [
      "[ 1  1  1 ...  3 87  3]\n"
     ]
    }
   ],
   "source": [
    "print(lr_pred)"
   ]
  },
  {
   "cell_type": "code",
   "execution_count": 68,
   "metadata": {},
   "outputs": [
    {
     "data": {
      "text/plain": [
       "array([2])"
      ]
     },
     "execution_count": 68,
     "metadata": {},
     "output_type": "execute_result"
    }
   ],
   "source": [
    "lr.predict([[100,100]])  # 0 -> 2019-4, 0->10대"
   ]
  },
  {
   "cell_type": "code",
   "execution_count": 30,
   "metadata": {},
   "outputs": [],
   "source": [
    "import joblib"
   ]
  },
  {
   "cell_type": "code",
   "execution_count": 31,
   "metadata": {},
   "outputs": [
    {
     "data": {
      "text/plain": [
       "['./사용빈도머신러닝testModel2.pkl']"
      ]
     },
     "execution_count": 31,
     "metadata": {},
     "output_type": "execute_result"
    }
   ],
   "source": [
    "joblib.dump(lr, './사용빈도머신러닝testModel2.pkl')"
   ]
  },
  {
   "cell_type": "markdown",
   "metadata": {},
   "source": [
    "**<h4>선형회귀 그래프</h4>**"
   ]
  },
  {
   "cell_type": "code",
   "execution_count": 83,
   "metadata": {},
   "outputs": [
    {
     "data": {
      "image/png": "[encoded data removed]",
      "text/plain": [
       "<Figure size 432x288 with 1 Axes>"
      ]
     },
     "metadata": {
      "needs_background": "light"
     },
     "output_type": "display_data"
    }
   ],
   "source": [
    "plt.scatter(lr_pred, y_data, alpha=0.4)\n",
    "plt.xlabel(\"Spend\")\n",
    "plt.ylabel(\"predicted Spend\")\n",
    "plt.title(\"MULTIPLE LINEAR REGRESSION\")\n",
    "plt.show()"
   ]
  },
  {
   "cell_type": "code",
   "execution_count": 21,
   "metadata": {},
   "outputs": [],
   "source": [
    "conn.close()"
   ]
  }
 ],
 "metadata": {
  "kernelspec": {
   "display_name": "Python 3",
   "language": "python",
   "name": "python3"
  },
  "language_info": {
   "codemirror_mode": {
    "name": "ipython",
    "version": 3
   },
   "file_extension": ".py",
   "mimetype": "text/x-python",
   "name": "python",
   "nbconvert_exporter": "python",
   "pygments_lexer": "ipython3",
   "version": "3.7.7"
  }
 },
 "nbformat": 4,
 "nbformat_minor": 4
}
